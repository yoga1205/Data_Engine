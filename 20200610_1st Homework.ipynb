{
 "cells": [
  {
   "cell_type": "code",
   "execution_count": 10,
   "metadata": {},
   "outputs": [
    {
     "name": "stdout",
     "output_type": "stream",
     "text": [
      "2550\n"
     ]
    }
   ],
   "source": [
    "sum = 0\n",
    "for u in range(2,102,2):\n",
    "     sum = sum + u\n",
    "print(sum)        "
   ]
  },
  {
   "cell_type": "code",
   "execution_count": 13,
   "metadata": {},
   "outputs": [
    {
     "name": "stdout",
     "output_type": "stream",
     "text": [
      "28.25\n",
      "77.5\n",
      "93.25\n",
      "93.75\n"
     ]
    }
   ],
   "source": [
    "import numpy as np\n",
    "persontype = np.dtype({\n",
    "    'names':['name', 'age', 'chinese', 'math', 'english'],\n",
    "    'formats':['S32','i', 'i', 'i', 'f']})\n",
    "peoples = np.array([(\"ZhangFei\",32,75,100, 90),(\"GuanYu\",24,85,96,88.5),(\"ZhaoYun\",28,85,92,96.5),(\"HuangZhong\",29,65,85,100)],dtype=persontype)\n",
    "ages = peoples['age']\n",
    "chineses = peoples['chinese']\n",
    "maths = peoples['math']\n",
    "englishs = peoples['english']\n",
    "print(np.mean(ages))\n",
    "print(np.mean(chineses))\n",
    "print(np.mean(maths))\n",
    "print(np.mean(englishs))"
   ]
  },
  {
   "cell_type": "code",
   "execution_count": 23,
   "metadata": {
    "scrolled": false
   },
   "outputs": [
    {
     "name": "stdout",
     "output_type": "stream",
     "text": [
      "86.2\n",
      "81.0\n",
      "76.6\n",
      "68\n",
      "65\n",
      "30\n",
      "98\n",
      "90\n",
      "98\n",
      "10.961751684835777\n",
      "9.338094023943002\n",
      "24.24541193710678\n",
      "120.16\n",
      "87.2\n",
      "587.8399999999999\n",
      "            a\n",
      "LiuBei    272\n",
      "GuanYu    269\n",
      "XuChu     260\n",
      "DianWei   255\n",
      "ZhangFei  163\n"
     ]
    }
   ],
   "source": [
    "import numpy as np\n",
    "import pandas as pd\n",
    "persontype = np.dtype({\n",
    "    'names':['name', 'chinese', 'math', 'english'],\n",
    "    'formats':['S32','i', 'i', 'i', 'i']})\n",
    "peoples = np.array([(\"ZhangFei\",68,65,30),(\"GuanYu\",95,76,98),(\"LiuBei\",98,86,88),(\"DianWei\",90,88,77),(\"XuChu\",80,90,90)],dtype=persontype)\n",
    "chineses = peoples['chinese']\n",
    "maths = peoples['math']\n",
    "englishs = peoples['english']\n",
    "print(np.mean(chineses))\n",
    "print(np.mean(maths))\n",
    "print(np.mean(englishs))\n",
    "print(np.min(chineses))\n",
    "print(np.min(maths))\n",
    "print(np.min(englishs))\n",
    "print(np.max(chineses))\n",
    "print(np.max(maths))\n",
    "print(np.max(englishs))\n",
    "print(np.std(chineses))\n",
    "print(np.std(maths))\n",
    "print(np.std(englishs))\n",
    "print(np.var(chineses))\n",
    "print(np.var(maths))\n",
    "print(np.var(englishs))\n",
    "\n",
    "a=peoples['chinese']+peoples['math']+peoples['english']\n",
    "b=['ZhangFei','GuanYu','LiuBei','DianWei','XuChu']\n",
    "df=pd.DataFrame(a,index=b,columns=list(\"a\"))\n",
    "print(df.sort_values('a',ascending=False))"
   ]
  },
  {
   "cell_type": "code",
   "execution_count": 27,
   "metadata": {},
   "outputs": [
    {
     "name": "stdout",
     "output_type": "stream",
     "text": [
      "品牌投诉总数：          count\n",
      "brand         \n",
      "吉利汽车        96\n",
      "一汽马自达       95\n",
      "一汽-大众       52\n",
      "上汽大众        36\n",
      "一汽-大众奥迪     19\n",
      "...        ...\n",
      "开瑞汽车         1\n",
      "天津一汽         1\n",
      "凯翼汽车         1\n",
      "奇瑞新能源        1\n",
      "东风风行         1\n",
      "\n",
      "[75 rows x 1 columns]\n",
      "车型投诉总数：          count\n",
      "brand         \n",
      "吉利汽车        96\n",
      "一汽马自达       95\n",
      "一汽-大众       52\n",
      "上汽大众        36\n",
      "一汽-大众奥迪     19\n",
      "...        ...\n",
      "开瑞汽车         1\n",
      "天津一汽         1\n",
      "凯翼汽车         1\n",
      "奇瑞新能源        1\n",
      "东风风行         1\n",
      "\n",
      "[75 rows x 1 columns]\n",
      "平均车型投诉总数:             count\n",
      "brand            \n",
      "一汽马自达   47.500000\n",
      "吉利汽车     9.600000\n",
      "一汽-大众    8.666667\n",
      "一汽大众     6.000000\n",
      "广汽丰田     5.666667\n",
      "...           ...\n",
      "宝马（进口）   1.000000\n",
      "凯翼汽车     1.000000\n",
      "一汽吉林     1.000000\n",
      "广汽乘用车    1.000000\n",
      "东南汽车     1.000000\n",
      "\n",
      "[75 rows x 1 columns]\n"
     ]
    }
   ],
   "source": [
    "# 对汽车投诉信息进行分析\n",
    "import pandas as pd\n",
    "result=pd.read_csv('car_complain.csv')\n",
    "#print(result)\n",
    "result=result.drop('problem',1).join(result.problem.str.get_dummies(','))\n",
    "#计算品牌投诉总数\n",
    "df=result.groupby(['brand'])['id'].agg(['count'])\n",
    "print('品牌投诉总数：',df.sort_values('count',ascending=False))\n",
    "# 计算车型投诉总数\n",
    "df1=result.groupby(['brand'])['id'].agg(['count'])\n",
    "print('车型投诉总数：',df1.sort_values('count',ascending=False))\n",
    "#计算平均车型投诉总数\n",
    "df2=result.groupby(['brand','car_model'])['id'].agg(['count']).groupby(['brand']).mean()\n",
    "print('平均车型投诉总数:',df2.sort_values('count',ascending=False))"
   ]
  }
 ],
 "metadata": {
  "kernelspec": {
   "display_name": "Python 3",
   "language": "python",
   "name": "python3"
  },
  "language_info": {
   "codemirror_mode": {
    "name": "ipython",
    "version": 3
   },
   "file_extension": ".py",
   "mimetype": "text/x-python",
   "name": "python",
   "nbconvert_exporter": "python",
   "pygments_lexer": "ipython3",
   "version": "3.7.6"
  }
 },
 "nbformat": 4,
 "nbformat_minor": 4
}
